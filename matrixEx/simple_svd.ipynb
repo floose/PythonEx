{
 "cells": [
  {
   "cell_type": "markdown",
   "id": "c0b5a201",
   "metadata": {},
   "source": [
    "# Goal\n",
    "\n",
    "* Simple Single Value Decomposition studies and exercises\n",
    "* Rank of Matrix, SVD, eigen decomposition"
   ]
  },
  {
   "cell_type": "code",
   "execution_count": 8,
   "id": "3f61df16",
   "metadata": {},
   "outputs": [
    {
     "name": "stdout",
     "output_type": "stream",
     "text": [
      "First Matrix example\n",
      "[[1 3 1 4]\n",
      " [2 7 3 9]\n",
      " [1 5 3 1]\n",
      " [1 2 0 8]]\n",
      "Rank: 3\n",
      "Shape: (4, 4)\n"
     ]
    }
   ],
   "source": [
    "import numpy as np\n",
    "\n",
    "print ('First Matrix example')\n",
    "\n",
    "#Matrix np array: A list of \"lists\" that are the row vectors of matrix\n",
    "m = np.array(   [[1,3,1,4],\n",
    "                [2,7,3,9],\n",
    "                [1,5,3,1],\n",
    "                [1,2,0,8]])\n",
    "\n",
    "print(m)\n",
    "\n",
    "print(\"Rank: \" + str(np.linalg.matrix_rank(m))) \n",
    "print(\"Shape: \" + str(m.shape))"
   ]
  },
  {
   "cell_type": "markdown",
   "id": "0f430211",
   "metadata": {},
   "source": [
    "## SVD\n",
    "\n",
    "* Each column of $U$ and $V*$ form a set of **orthonormal vectors**\n",
    "* Therefore, can be regarded as basis vectors"
   ]
  },
  {
   "cell_type": "code",
   "execution_count": 9,
   "id": "0224108a",
   "metadata": {},
   "outputs": [
    {
     "name": "stdout",
     "output_type": "stream",
     "text": [
      "U:\n",
      "Rank: 4\n",
      "Shape: (4, 4)\n",
      "[[-3.31035688e-01  1.16552991e-02  9.43546251e-01 -2.49009304e-18]\n",
      " [-7.61541216e-01  1.20573764e-01 -2.68670077e-01 -5.77350269e-01]\n",
      " [-2.79533664e-01  7.59592647e-01 -1.07455144e-01  5.77350269e-01]\n",
      " [-4.82007552e-01 -6.39018883e-01 -1.61214933e-01  5.77350269e-01]]\n",
      "S:\n",
      "Rank: 1\n",
      "Shape: (4,)\n",
      "[1.56792158e+01 5.39437562e+00 2.50807625e-01 2.13481008e-17]\n",
      "VT:\n",
      "Rank: 4\n",
      "Shape: (4, 4)\n",
      "[[-1.66823352e-01 -5.53954938e-01 -2.20308234e-01 -7.85345897e-01]\n",
      " [ 6.92159053e-02  6.30083620e-01  4.91651809e-01 -5.97061378e-01]\n",
      " [ 5.48372557e-01  3.59808132e-01 -7.36936981e-01 -1.63552844e-01]\n",
      " [-8.16496581e-01  4.08248290e-01 -4.08248290e-01 -2.55504445e-16]]\n"
     ]
    }
   ],
   "source": [
    "#Single value Decomposition of matrix m\n",
    "\n",
    "U, S, VT = np.linalg.svd(m,full_matrices=0)\n",
    "\n",
    "print(\"U:\")\n",
    "print(\"Rank: \" + str(np.linalg.matrix_rank(U)))\n",
    "print(\"Shape: \" + str(U.shape))\n",
    "print(U)\n",
    "print(\"S:\")\n",
    "print(\"Rank: \" + str(np.linalg.matrix_rank(S)))\n",
    "print(\"Shape: \" + str(S.shape))\n",
    "print(S)\n",
    "print(\"VT:\")\n",
    "print(\"Rank: \" + str(np.linalg.matrix_rank(VT)))\n",
    "print(\"Shape: \" + str(VT.shape))\n",
    "print(VT)"
   ]
  },
  {
   "cell_type": "code",
   "execution_count": 5,
   "id": "f6b03063",
   "metadata": {},
   "outputs": [
    {
     "name": "stdout",
     "output_type": "stream",
     "text": [
      "Eigenvalues:\n",
      "[ 1.34988503e+01  5.36301779e+00  1.38131899e-01 -1.25312550e-15]\n",
      "Eigenvectors:\n",
      "[[-3.27792490e-01  1.35019574e-01 -9.83663903e-01  8.16496581e-01]\n",
      " [-7.69611159e-01  4.30632500e-01  1.45955949e-01 -4.08248290e-01]\n",
      " [-4.30082948e-01  8.08444899e-01  5.79676999e-02  4.08248290e-01]\n",
      " [-3.39528211e-01 -3.77812399e-01  8.79882487e-02  7.48248210e-16]]\n"
     ]
    }
   ],
   "source": [
    "#Eigenvalue decomposition\n",
    "\n",
    "eigenvalues, eigenvectors = np.linalg.eig(m)\n",
    "\n",
    "print(\"Eigenvalues:\")\n",
    "print(eigenvalues)\n",
    "print(\"Eigenvectors:\")\n",
    "print(eigenvectors)"
   ]
  }
 ],
 "metadata": {
  "kernelspec": {
   "display_name": "base",
   "language": "python",
   "name": "python3"
  },
  "language_info": {
   "codemirror_mode": {
    "name": "ipython",
    "version": 3
   },
   "file_extension": ".py",
   "mimetype": "text/x-python",
   "name": "python",
   "nbconvert_exporter": "python",
   "pygments_lexer": "ipython3",
   "version": "3.12.7"
  }
 },
 "nbformat": 4,
 "nbformat_minor": 5
}
